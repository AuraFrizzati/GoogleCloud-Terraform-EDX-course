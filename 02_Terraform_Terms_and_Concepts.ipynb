{
  "nbformat": 4,
  "nbformat_minor": 0,
  "metadata": {
    "colab": {
      "provenance": [],
      "authorship_tag": "ABX9TyO67uDOdOnHd2hfLgeGkfAN",
      "include_colab_link": true
    },
    "kernelspec": {
      "name": "python3",
      "display_name": "Python 3"
    },
    "language_info": {
      "name": "python"
    }
  },
  "cells": [
    {
      "cell_type": "markdown",
      "metadata": {
        "id": "view-in-github",
        "colab_type": "text"
      },
      "source": [
        "<a href=\"https://colab.research.google.com/github/AuraFrizzati/GoogleCloud-Terraform-EDX-course/blob/main/02_Terraform_Terms_and_Concepts.ipynb\" target=\"_parent\"><img src=\"https://colab.research.google.com/assets/colab-badge.svg\" alt=\"Open In Colab\"/></a>"
      ]
    },
    {
      "cell_type": "markdown",
      "source": [
        "# **[02] Terraform Terms & Concepts**\n",
        "\n",
        "In this module, we introduce you to **HashiCorp Language** and discuss the terms and concepts involved in **authoring a Terraform configuration**.\n",
        "\n",
        "We also explore some of the important **Terraform commands** involved in managing the terraform configuration.\n",
        "\n",
        "Upon completion of this module, you will be able to interpret what each code block means, create basic configuration files within Terraform and be able to explain the purpose of a few important Terraform commands and we will also explore what a **Validator tool** is.\n",
        "\n",
        "Upon completing this module you will be able to\n",
        "\n",
        "- Explain the **Terraform workflow**.\n",
        "- Create **basic configuration files** within Terraform.\n",
        "- Explain the purpose of a few **Terraform commands**.\n",
        "- Describe the **Terraform Validator tool**.\n",
        "- **Create, update, and destroy Google Cloud resources** using Terraform."
      ],
      "metadata": {
        "id": "HYs1mCvz3Mf1"
      }
    },
    {
      "cell_type": "markdown",
      "source": [],
      "metadata": {
        "id": "ORm_I7Or3Mc-"
      }
    },
    {
      "cell_type": "markdown",
      "source": [],
      "metadata": {
        "id": "TrFW6Bwz3MZG"
      }
    },
    {
      "cell_type": "markdown",
      "source": [],
      "metadata": {
        "id": "44pMiu4A3MVC"
      }
    },
    {
      "cell_type": "markdown",
      "source": [],
      "metadata": {
        "id": "TLpqRJxo3MRq"
      }
    },
    {
      "cell_type": "markdown",
      "source": [],
      "metadata": {
        "id": "4ULALgAN3MJq"
      }
    }
  ]
}