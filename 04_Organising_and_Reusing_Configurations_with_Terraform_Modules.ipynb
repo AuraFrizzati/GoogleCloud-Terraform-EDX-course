{
  "nbformat": 4,
  "nbformat_minor": 0,
  "metadata": {
    "colab": {
      "provenance": [],
      "authorship_tag": "ABX9TyPOiWt4hBh6GDUDZoSElp2m",
      "include_colab_link": true
    },
    "kernelspec": {
      "name": "python3",
      "display_name": "Python 3"
    },
    "language_info": {
      "name": "python"
    }
  },
  "cells": [
    {
      "cell_type": "markdown",
      "metadata": {
        "id": "view-in-github",
        "colab_type": "text"
      },
      "source": [
        "<a href=\"https://colab.research.google.com/github/AuraFrizzati/GoogleCloud-Terraform-EDX-course/blob/main/04_Organising_and_Reusing_Configurations_with_Terraform_Modules.ipynb\" target=\"_parent\"><img src=\"https://colab.research.google.com/assets/colab-badge.svg\" alt=\"Open In Colab\"/></a>"
      ]
    },
    {
      "cell_type": "markdown",
      "source": [
        "# **[04] Organising and Reusing Configuration with Terraform Modules**\n",
        "\n",
        "You will explore what **modules** are, how to use them from a **public registry**, how to use modules to **reuse configurations**, and **parameterise configurations using input variables**. You will also explore how to **use output values to access resource attributes outside of the module**.\n",
        "\n",
        "Upon completing this module you will be able to\n",
        "\n",
        "- Define **Terraform Modules**\n",
        "- Use modules to **reuse configurations**.\n",
        "- Use modules from the **public registry**.\n",
        "- Use **input variables** to **parameterize configurations**.\n",
        "- Use **output values** to **access resource attributes outside the module**"
      ],
      "metadata": {
        "id": "PUCNsyL4r7MH"
      }
    },
    {
      "cell_type": "markdown",
      "source": [
        "**Abstracting** and **modularising your code** is a common practice in the programming world.\n",
        "\n",
        "As your infrastructure grows, so does your codebase and your team will have to spend a fair amount of time understanding the code, changing it, testing it and deploying it.\n",
        "\n",
        "**DRY** is a **software development principle** that stands for **Don't Repeat Yourself**. We will explore how **Terraform** implements the DRY principle using **modules**. With modules, you can **group set of resources together** so you can reuse them later."
      ],
      "metadata": {
        "id": "b7JZLgGSr6-z"
      }
    },
    {
      "cell_type": "markdown",
      "source": [],
      "metadata": {
        "id": "PLm8pvz7sd9p"
      }
    },
    {
      "cell_type": "markdown",
      "source": [],
      "metadata": {
        "id": "LYYtYH33sdya"
      }
    }
  ]
}