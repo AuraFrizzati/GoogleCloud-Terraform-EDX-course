{
  "nbformat": 4,
  "nbformat_minor": 0,
  "metadata": {
    "colab": {
      "provenance": [],
      "authorship_tag": "ABX9TyM0TcVnqvxVT4ZWUfEaHnPC",
      "include_colab_link": true
    },
    "kernelspec": {
      "name": "python3",
      "display_name": "Python 3"
    },
    "language_info": {
      "name": "python"
    }
  },
  "cells": [
    {
      "cell_type": "markdown",
      "metadata": {
        "id": "view-in-github",
        "colab_type": "text"
      },
      "source": [
        "<a href=\"https://colab.research.google.com/github/AuraFrizzati/GoogleCloud-Terraform-EDX-course/blob/main/03_Writing_Infrastructure_Code_for_Google_Cloud.ipynb\" target=\"_parent\"><img src=\"https://colab.research.google.com/assets/colab-badge.svg\" alt=\"Open In Colab\"/></a>"
      ]
    },
    {
      "cell_type": "markdown",
      "source": [
        "# **[03] Writing Infrastructure Code for Google Cloud**"
      ],
      "metadata": {
        "id": "3B0mk6_vHbpG"
      }
    },
    {
      "cell_type": "markdown",
      "source": [
        "**Objectives**\n",
        "\n",
        "In this module, you will explore more about resources, variables, and output resources.\n",
        "\n",
        "We will begin by exploring how to create infrastructure components using **resources** and then explore how Terraform handles **dependencies** within resources.\n",
        "\n",
        "While we have been covering resource creation by using hard-code resource arguments, we will explore how you can **parameterize** a given **configuration** using **variables**. We will explore the syntax to declare, define and use them within your configuration.\n",
        "\n",
        "We will then discuss how you can **export resource attributes outside the resource declaration** using **output values**.\n",
        "\n",
        "We will then wrap up the module by discovering how you can **simplify code authoring** using **Terraform registry**, and **Cloud Foundation Toolkit**.\n",
        "\n",
        "Upon completing this module you will be able to\n",
        "\n",
        "- **Declare the resources** within Terraform.\n",
        "- Explain **implicit** and **explicit resource dependencies**.\n",
        "- Use **variables** and **output values** within the root configuration.\n",
        "- Explain **Terraform Registry** and **Cloud Foundation Toolkit**.\n",
        "\n"
      ],
      "metadata": {
        "id": "k5jmi4TCJCHS"
      }
    },
    {
      "cell_type": "markdown",
      "source": [],
      "metadata": {
        "id": "HsqMTNakKkYr"
      }
    },
    {
      "cell_type": "markdown",
      "source": [],
      "metadata": {
        "id": "o2FUoP-uKkU1"
      }
    },
    {
      "cell_type": "markdown",
      "source": [],
      "metadata": {
        "id": "bcSZgt2-KkR8"
      }
    },
    {
      "cell_type": "markdown",
      "source": [],
      "metadata": {
        "id": "J1aIEuc6KkOk"
      }
    },
    {
      "cell_type": "markdown",
      "source": [],
      "metadata": {
        "id": "BuwXCe7XKkLJ"
      }
    }
  ]
}