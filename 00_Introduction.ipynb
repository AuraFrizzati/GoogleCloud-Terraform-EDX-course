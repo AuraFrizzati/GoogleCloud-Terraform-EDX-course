{
  "nbformat": 4,
  "nbformat_minor": 0,
  "metadata": {
    "colab": {
      "provenance": [],
      "authorship_tag": "ABX9TyNySDPP5esxuLaKAqKPHxSt",
      "include_colab_link": true
    },
    "kernelspec": {
      "name": "python3",
      "display_name": "Python 3"
    },
    "language_info": {
      "name": "python"
    }
  },
  "cells": [
    {
      "cell_type": "markdown",
      "metadata": {
        "id": "view-in-github",
        "colab_type": "text"
      },
      "source": [
        "<a href=\"https://colab.research.google.com/github/AuraFrizzati/GoogleCloud-Terraform-EDX-course/blob/main/00_Introduction.ipynb\" target=\"_parent\"><img src=\"https://colab.research.google.com/assets/colab-badge.svg\" alt=\"Open In Colab\"/></a>"
      ]
    },
    {
      "cell_type": "markdown",
      "source": [
        "# **[01] Getting Started with Terraform for Google Cloud: Introduction**"
      ],
      "metadata": {
        "id": "2RacCTPtLQWu"
      }
    },
    {
      "cell_type": "markdown",
      "source": [
        "## **Course Description**\n",
        "\n",
        "- This course provides an **introduction** to **using Terraform for Google Cloud**. It enables learners to **describe how Terraform can be used** to **implement infrastructure as code** and to **apply some of its key features and functionalities** to create and manage Google Cloud infrastructure.\n",
        "- Learners will get hands-on practice **building and managing Google Cloud resources using Terraform**.\n",
        "- This is the last course in an eight-course series required for the **Google Cloud’s Engineer Learning Path Professional Certificate**. The courses should be completed in the following order:\n",
        "\n",
        "  1. Preparing for Your Associate Cloud Engineer Journey\n",
        "  2. Google Cloud Fundamentals: Core Infrastructure\n",
        "  3. Essential Google Cloud Infrastructure: Foundation\n",
        "  4. Essential Google Cloud Infrastructure: Core Services\n",
        "  5. Elastic Google Cloud Infrastructure: Scaling and Automation\n",
        "  6. Getting Started with Google Kubernetes Engine\n",
        "  7. Logging, Monitoring and Observability in Google Cloud\n",
        "  8. **Getting Started with Terraform for Google Cloud**\n",
        "\n"
      ],
      "metadata": {
        "id": "KRSbq-ELMhYq"
      }
    },
    {
      "cell_type": "markdown",
      "source": [
        "## **Course Objectives**\n",
        "After completing this course, you will be able to:\n",
        "- Define the **business need for infrastructure as code** and the **benefits** of using it in your environment.\n",
        "- Explain the **features** and **functionalities** of **Terraform**.\n",
        "- Use **Terraform resources**, **variables**, and **output values** to create **Google Cloud infrastructure resources**.\n",
        "- Use **Terraform modules** to **build reusable configurations**.\n",
        "- Explain **Terraform state** and its importance"
      ],
      "metadata": {
        "id": "d7f8ao0DNGoQ"
      }
    },
    {
      "cell_type": "markdown",
      "source": [
        "Course Syllabus"
      ],
      "metadata": {
        "id": "nN6CviinN4MY"
      }
    }
  ]
}