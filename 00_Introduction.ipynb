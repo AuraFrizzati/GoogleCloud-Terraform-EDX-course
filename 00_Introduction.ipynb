{
  "nbformat": 4,
  "nbformat_minor": 0,
  "metadata": {
    "colab": {
      "provenance": [],
      "authorship_tag": "ABX9TyP/Pk/X7Rmia/QlKgTCGUBx",
      "include_colab_link": true
    },
    "kernelspec": {
      "name": "python3",
      "display_name": "Python 3"
    },
    "language_info": {
      "name": "python"
    }
  },
  "cells": [
    {
      "cell_type": "markdown",
      "metadata": {
        "id": "view-in-github",
        "colab_type": "text"
      },
      "source": [
        "<a href=\"https://colab.research.google.com/github/AuraFrizzati/GoogleCloud-Terraform-EDX-course/blob/main/00_Introduction.ipynb\" target=\"_parent\"><img src=\"https://colab.research.google.com/assets/colab-badge.svg\" alt=\"Open In Colab\"/></a>"
      ]
    },
    {
      "cell_type": "markdown",
      "source": [
        "# **[01] Getting Started with Terraform for Google Cloud: Introduction**"
      ],
      "metadata": {
        "id": "2RacCTPtLQWu"
      }
    },
    {
      "cell_type": "markdown",
      "source": [
        "## **Course Description**\n",
        "\n",
        "- This course provides an **introduction** to **using Terraform for Google Cloud**. It enables learners to **describe how Terraform can be used** to **implement infrastructure as code** and to **apply some of its key features and functionalities** to create and manage Google Cloud infrastructure.\n",
        "- Learners will get hands-on practice **building and managing Google Cloud resources using Terraform**.\n",
        "- This is the last course in an eight-course series required for the **Google Cloud’s Engineer Learning Path Professional Certificate**. The courses should be completed in the following order:\n",
        "\n",
        "  1. Preparing for Your Associate Cloud Engineer Journey\n",
        "  2. Google Cloud Fundamentals: Core Infrastructure\n",
        "  3. Essential Google Cloud Infrastructure: Foundation\n",
        "  4. Essential Google Cloud Infrastructure: Core Services\n",
        "  5. Elastic Google Cloud Infrastructure: Scaling and Automation\n",
        "  6. Getting Started with Google Kubernetes Engine\n",
        "  7. Logging, Monitoring and Observability in Google Cloud\n",
        "  8. **Getting Started with Terraform for Google Cloud**\n",
        "\n"
      ],
      "metadata": {
        "id": "KRSbq-ELMhYq"
      }
    },
    {
      "cell_type": "markdown",
      "source": [
        "## **Course Objectives**\n",
        "After completing this course, you will be able to:\n",
        "- Define the **business need for infrastructure as code** and the **benefits** of using it in your environment.\n",
        "- Explain the **features** and **functionalities** of **Terraform**.\n",
        "- Use **Terraform resources**, **variables**, and **output values** to create **Google Cloud infrastructure resources**.\n",
        "- Use **Terraform modules** to **build reusable configurations**.\n",
        "- Explain **Terraform state** and its importance"
      ],
      "metadata": {
        "id": "d7f8ao0DNGoQ"
      }
    },
    {
      "cell_type": "markdown",
      "source": [
        "## **Course Syllabus**\n",
        "\n",
        "**Module 0: Introduction**\n",
        "- Getting Started with Terraform for Google Cloud\n",
        "\n",
        "**Module 1: Introduction to Terraform for Google Cloud**\n",
        "- Module Overview\n",
        "- Infrastructure as Code\n",
        "- Terraform Overview\n",
        "- Using Terraform\n",
        "- Quiz - Introducing to Terraform for Google Cloud\n",
        "- Module Summary\n",
        "\n",
        "**Module 2: Terms and Concepts**\n",
        "- Module Overview\n",
        "- Terraform Configurations and the HashiCorp Language\n",
        "- Author Phase Terms and Concepts\n",
        "- Terraform Commands\n",
        "- The Terraform Validator\n",
        "- Demo - Terraform Workflow\n",
        "- Lab: Infrastructure as Code with Terraform\n",
        "- Quiz - Terms and Concepts\n",
        "- Module Summary\n",
        "\n",
        "**Module 3: Writing Infrastructure Code for Google Cloud**\n",
        "- Module Overview\n",
        "- Introduction to Resources\n",
        "- Meta-arguments for Resources\n",
        "- Resource Dependencies\n",
        "- Variables\n",
        "- Variables Best Practices\n",
        "- Output Values\n",
        "- Terraform Registry and Cloud Foundation Toolkit\n",
        "- Lab: Creating Resource Dependencies with Terraform\n",
        "- Quiz - Writing Infrastructure Code for Google Cloud\n",
        "- Module Summary\n",
        "\n",
        "**Module 4: Organizing and Reusing Configuration with Terraform Modules**\n",
        "- Module Overview\n",
        "- Introduction to Terraform Modules\n",
        "- Modules use cases and benefits\n",
        "- Reuse Configurations with Modules\n",
        "- Variables and Outputs\n",
        "- Best Practices and a Real Time Scenario\n",
        "- Lab: Automating the Deployment of Infrastructure Using Terraform\n",
        "- Quiz - Organizing and Reusing Configuration with Terraform Modules\n",
        "- Module Summary\n",
        "\n",
        "**Module 5: Introduction to Terraform State**\n",
        "- Module Overview\n",
        "- Introduction to Terraform State\n",
        "- Storing State Files\n",
        "- Terraform State Best Practices\n",
        "- Lab: Creating a Remote Backend\n",
        "- Quiz - Introduction to Terraform State\n",
        "- Module Summary\n",
        "\n",
        "**Module 6: Course Summary**\n",
        "- Course Summary"
      ],
      "metadata": {
        "id": "nN6CviinN4MY"
      }
    },
    {
      "cell_type": "markdown",
      "source": [
        "## **What is Terraform?**\n",
        "\n",
        "- Terraform is an **open source infrastracture-as-code** (**IaC**) tool by **HashiCorp** for **publishing resources** (including Google Cloud ones) using **technical configuration files**.\n",
        "- The configuration files can be **shared across team members, treated as code, edited, reviewed and even versioned**. This enables you to **build and deploy complex Google Cloud infrastructure** by running a few simple commands."
      ],
      "metadata": {
        "id": "Y4kNKLlTQgu9"
      }
    }
  ]
}