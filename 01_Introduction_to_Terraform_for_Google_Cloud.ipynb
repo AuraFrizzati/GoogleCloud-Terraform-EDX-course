{
  "nbformat": 4,
  "nbformat_minor": 0,
  "metadata": {
    "colab": {
      "provenance": [],
      "authorship_tag": "ABX9TyOU6phkWpS04imF1CzeyHMI",
      "include_colab_link": true
    },
    "kernelspec": {
      "name": "python3",
      "display_name": "Python 3"
    },
    "language_info": {
      "name": "python"
    }
  },
  "cells": [
    {
      "cell_type": "markdown",
      "metadata": {
        "id": "view-in-github",
        "colab_type": "text"
      },
      "source": [
        "<a href=\"https://colab.research.google.com/github/AuraFrizzati/GoogleCloud-Terraform-EDX-course/blob/main/01_Introduction_to_Terraform_for_Google_Cloud.ipynb\" target=\"_parent\"><img src=\"https://colab.research.google.com/assets/colab-badge.svg\" alt=\"Open In Colab\"/></a>"
      ]
    },
    {
      "cell_type": "markdown",
      "source": [
        "# **[01] Introduction to Terraform for Google Cloud**"
      ],
      "metadata": {
        "id": "NlZZlp40Sa8h"
      }
    },
    {
      "cell_type": "markdown",
      "source": [
        "This is an introductory module that covers the **business need for Terraform**.\n",
        "\n",
        "- We’ll start with the basics by providing an overview of **infrastructure as code** (**IaC**), which is the basic concept for Terraform.\n",
        "- We will explore how **Terraform can be used as an IaC tool on Google Cloud** and also cover its **features** and **benefits**.\n",
        "- We’ll then look at **how Terraform transforms lines of code into real infrastructure** on Google Cloud.\n",
        "\n",
        "Upon completing this module you will be able to\n",
        "1. **Define infrastructure as code (IaC)**: this is the main concept of Terraform\n",
        "2. Explain the **features** and **benefits** of using **Terraform**.\n",
        "3. Explain the **use case of Terraform for Google Cloud**.\n",
        "4. Describe **how to use Terraform for Google Cloud**."
      ],
      "metadata": {
        "id": "57XHqiYWSg9F"
      }
    },
    {
      "cell_type": "markdown",
      "source": [
        "Cloud computing has played a major role in how companies build, scale and maintain technology products. It has transformed the way of how technology products and services are provisioned. the ability the cloud infrastructure with just a few clicks to provision has proved very simple and highly productive."
      ],
      "metadata": {
        "id": "i_q9m1keSgy_"
      }
    },
    {
      "cell_type": "markdown",
      "source": [
        "## **1.1: Infrastracture as Code (IaC)**\n",
        "\n",
        "**What is IaC?**\n",
        "\n",
        "- Instead of clicking around a web User Interface (UI) or using SSH to connect to a server and manually executing commands, with **IaC** you can **write code in files**, using **configuration language**, to **define**, **provision** and **manage** your **infrastructure**.\n",
        "\n",
        "- Gone are the days where ssistantadministrators had to manually configure hundreds of servers, networks and firewalls interacting with the UI. With **IaC**, you **only declare the final end state of the infrastructure**. IaC handles its **managing** and **provisioning** for you.\n",
        "\n",
        "**DevOps**\n",
        "\n",
        "- The rapid increase of business demand has manifested a **cultural shift** known as DevOps.\n",
        "\n",
        "- DevOps emphasizes the collaboration and communication of both software developers and IT operations teams"
      ],
      "metadata": {
        "id": "hwRgveHeUdHc"
      }
    },
    {
      "cell_type": "code",
      "source": [],
      "metadata": {
        "id": "OWnxgIDrUhlR"
      },
      "execution_count": null,
      "outputs": []
    }
  ]
}